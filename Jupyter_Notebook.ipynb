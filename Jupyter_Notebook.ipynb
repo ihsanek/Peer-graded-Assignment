{
  "metadata": {
    "kernelspec": {
      "name": "python",
      "display_name": "Pyolite",
      "language": "python"
    },
    "language_info": {
      "codemirror_mode": {
        "name": "python",
        "version": 3
      },
      "file_extension": ".py",
      "mimetype": "text/x-python",
      "name": "python",
      "nbconvert_exporter": "python",
      "pygments_lexer": "ipython3",
      "version": "3.8"
    }
  },
  "nbformat_minor": 4,
  "nbformat": 4,
  "cells": [
    {
      "cell_type": "markdown",
      "source": "<center>\n    <img src=\"https://cf-courses-data.s3.us.cloud-object-storage.appdomain.cloud/IBMDeveloperSkillsNetwork-DS0105EN-SkillsNetwork/labs/Module2/images/SN_web_lightmode.png\" width=\"300\" alt=\"cognitiveclass.ai logo\"  />\n</center>\n",
      "metadata": {}
    },
    {
      "cell_type": "markdown",
      "source": "#### Add your code below following the instructions given in the course\n",
      "metadata": {}
    },
    {
      "cell_type": "markdown",
      "source": "# My Jupyter Notebook on IBM Watson Studio",
      "metadata": {}
    },
    {
      "cell_type": "markdown",
      "source": "<b> Ihsane KABBAJ </b>",
      "metadata": {}
    },
    {
      "cell_type": "markdown",
      "source": "Future data scientist",
      "metadata": {}
    },
    {
      "cell_type": "markdown",
      "source": "<i> I would like to pursue a data science career in the media and entertainement industry because I find it the closest to all of us. We can see the results of data science in every click, every like, every video appearing in our timeline. I would like to be a part of it and make the experience of the user better. </i>",
      "metadata": {}
    },
    {
      "cell_type": "markdown",
      "source": "### My code is going to print Hello to my peers",
      "metadata": {}
    },
    {
      "cell_type": "code",
      "source": "print(\"Hello peers\")",
      "metadata": {
        "trusted": true
      },
      "execution_count": 3,
      "outputs": [
        {
          "name": "stdout",
          "text": "Hello peers\n",
          "output_type": "stream"
        }
      ]
    },
    {
      "cell_type": "markdown",
      "source": "<ul>\n<li>Fish</li>\n<li>Eggs</li>\n<li>Cheese</li>\n</ul>\n\n|Name|Address|Gender|\n|-----|-------|------|\n|Ihsane|Casablanca|F|\n|Adam|Sydney|M|\n\n<a>www.google.com</a>\n\n\n\n",
      "metadata": {}
    }
  ]
}